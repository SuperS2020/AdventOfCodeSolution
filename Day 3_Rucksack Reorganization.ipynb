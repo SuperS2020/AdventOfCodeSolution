{
 "cells": [
  {
   "cell_type": "code",
   "execution_count": 1,
   "id": "a428c4dc",
   "metadata": {},
   "outputs": [],
   "source": [
    "import pandas as pd"
   ]
  },
  {
   "cell_type": "code",
   "execution_count": 2,
   "id": "864a4553",
   "metadata": {},
   "outputs": [],
   "source": [
    "path = '***File Path***'"
   ]
  },
  {
   "cell_type": "code",
   "execution_count": 4,
   "id": "b116ecbe",
   "metadata": {},
   "outputs": [
    {
     "data": {
      "text/html": [
       "<div>\n",
       "<style scoped>\n",
       "    .dataframe tbody tr th:only-of-type {\n",
       "        vertical-align: middle;\n",
       "    }\n",
       "\n",
       "    .dataframe tbody tr th {\n",
       "        vertical-align: top;\n",
       "    }\n",
       "\n",
       "    .dataframe thead th {\n",
       "        text-align: right;\n",
       "    }\n",
       "</style>\n",
       "<table border=\"1\" class=\"dataframe\">\n",
       "  <thead>\n",
       "    <tr style=\"text-align: right;\">\n",
       "      <th></th>\n",
       "      <th>0</th>\n",
       "    </tr>\n",
       "  </thead>\n",
       "  <tbody>\n",
       "    <tr>\n",
       "      <th>0</th>\n",
       "      <td>mjpsHcssDzLTzMsz</td>\n",
       "    </tr>\n",
       "    <tr>\n",
       "      <th>1</th>\n",
       "      <td>tFhbtClRVtbhRCGBFntNTrLhqrwqWMDMTWTqMq</td>\n",
       "    </tr>\n",
       "    <tr>\n",
       "      <th>2</th>\n",
       "      <td>LltbngLGRSBgSgGRCJdSdQHvdfmQccmjSQ</td>\n",
       "    </tr>\n",
       "    <tr>\n",
       "      <th>3</th>\n",
       "      <td>lBslsZDDWdGdGpSMts</td>\n",
       "    </tr>\n",
       "    <tr>\n",
       "      <th>4</th>\n",
       "      <td>grQhDvqLQHDNGJJtbRMQQJ</td>\n",
       "    </tr>\n",
       "  </tbody>\n",
       "</table>\n",
       "</div>"
      ],
      "text/plain": [
       "                                        0\n",
       "0                        mjpsHcssDzLTzMsz\n",
       "1  tFhbtClRVtbhRCGBFntNTrLhqrwqWMDMTWTqMq\n",
       "2      LltbngLGRSBgSgGRCJdSdQHvdfmQccmjSQ\n",
       "3                      lBslsZDDWdGdGpSMts\n",
       "4                  grQhDvqLQHDNGJJtbRMQQJ"
      ]
     },
     "execution_count": 4,
     "metadata": {},
     "output_type": "execute_result"
    }
   ],
   "source": [
    "df = pd.read_csv(path, header=None)\n",
    "df.head()"
   ]
  },
  {
   "cell_type": "code",
   "execution_count": 5,
   "id": "f4a7ac89",
   "metadata": {},
   "outputs": [],
   "source": [
    "sack_list = df[0].to_list()"
   ]
  },
  {
   "cell_type": "code",
   "execution_count": 30,
   "id": "29c22fbb",
   "metadata": {},
   "outputs": [
    {
     "data": {
      "text/plain": [
       "300"
      ]
     },
     "execution_count": 30,
     "metadata": {},
     "output_type": "execute_result"
    }
   ],
   "source": [
    "first_com = []\n",
    "second_com = []\n",
    "\n",
    "for i in range(len(sack_list)):\n",
    "    first_com.append(sack_list[i][:int(len(sack_list[i])/2)])\n",
    "    second_com.append(sack_list[i][int(len(sack_list[i])/2):])\n",
    "    \n",
    "#len(first_com)"
   ]
  },
  {
   "cell_type": "code",
   "execution_count": 33,
   "id": "b7a279d1",
   "metadata": {},
   "outputs": [],
   "source": [
    "def find_common(a,b):\n",
    "    for i in range(len(a)):\n",
    "        if a[i] in b:\n",
    "            return a[i]\n",
    "    \n",
    "common = []\n",
    "\n",
    "for item in range(len(first_com)):\n",
    "    com = find_common(first_com[item],second_com[item])\n",
    "    common.append(com)"
   ]
  },
  {
   "cell_type": "code",
   "execution_count": 34,
   "id": "d3a8e5c4",
   "metadata": {},
   "outputs": [
    {
     "data": {
      "text/plain": [
       "97"
      ]
     },
     "execution_count": 34,
     "metadata": {},
     "output_type": "execute_result"
    }
   ],
   "source": [
    "ord('a')"
   ]
  },
  {
   "cell_type": "code",
   "execution_count": 35,
   "id": "9687acfe",
   "metadata": {},
   "outputs": [
    {
     "data": {
      "text/plain": [
       "65"
      ]
     },
     "execution_count": 35,
     "metadata": {},
     "output_type": "execute_result"
    }
   ],
   "source": [
    "ord('A')"
   ]
  },
  {
   "cell_type": "code",
   "execution_count": 36,
   "id": "c740ce1d",
   "metadata": {},
   "outputs": [
    {
     "data": {
      "text/plain": [
       "1"
      ]
     },
     "execution_count": 36,
     "metadata": {},
     "output_type": "execute_result"
    }
   ],
   "source": [
    "ord('a') -96"
   ]
  },
  {
   "cell_type": "code",
   "execution_count": 37,
   "id": "71c0ba06",
   "metadata": {},
   "outputs": [
    {
     "data": {
      "text/plain": [
       "27"
      ]
     },
     "execution_count": 37,
     "metadata": {},
     "output_type": "execute_result"
    }
   ],
   "source": [
    "ord(\"A\")- 38"
   ]
  },
  {
   "cell_type": "code",
   "execution_count": 41,
   "id": "8a009092",
   "metadata": {},
   "outputs": [],
   "source": [
    "def value(letter):\n",
    "    if letter.islower():\n",
    "        return ord(letter) - 96\n",
    "    else:\n",
    "        return ord(letter) - 38"
   ]
  },
  {
   "cell_type": "code",
   "execution_count": 42,
   "id": "1cfc8ea2",
   "metadata": {},
   "outputs": [
    {
     "name": "stdout",
     "output_type": "stream",
     "text": [
      "The sum of the priorities of those item tyeps is: 8123\n"
     ]
    }
   ],
   "source": [
    "sum_i = 0\n",
    "for com in common:\n",
    "    sum_i += value(com)\n",
    "\n",
    "print(\"The sum of the priorities of those item tyeps is:\",sum_i)\n",
    "    "
   ]
  },
  {
   "cell_type": "markdown",
   "id": "1c4e51c4",
   "metadata": {},
   "source": [
    "#### Part 2"
   ]
  },
  {
   "cell_type": "code",
   "execution_count": 43,
   "id": "112bd39e",
   "metadata": {},
   "outputs": [
    {
     "data": {
      "text/plain": [
       "300"
      ]
     },
     "execution_count": 43,
     "metadata": {},
     "output_type": "execute_result"
    }
   ],
   "source": [
    "len(sack_list)"
   ]
  },
  {
   "cell_type": "code",
   "execution_count": 72,
   "id": "a7087dd0",
   "metadata": {},
   "outputs": [],
   "source": [
    "groups = []\n",
    "\n",
    "for line in range(int(len(sack_list)/3)):\n",
    "    group = sack_list[3*line:3*line+3]\n",
    "    groups.append(group)\n"
   ]
  },
  {
   "cell_type": "code",
   "execution_count": 74,
   "id": "7ba4ef1f",
   "metadata": {},
   "outputs": [
    {
     "name": "stdout",
     "output_type": "stream",
     "text": [
      "The sum of the priorities of those item tyeps is: 2620\n"
     ]
    }
   ],
   "source": [
    "def group_find_common(a,b,c):\n",
    "    for i in range(len(a)):\n",
    "        if a[i] in b and a[i] in c:\n",
    "            return a[i]  \n",
    "\n",
    "group_common = []\n",
    "\n",
    "for i in range(len(groups)):\n",
    "    com = group_find_common(groups[i][0],groups[i][1],groups[i][2])\n",
    "    group_common.append(com)\n",
    "\n",
    "    \n",
    "sum_g = 0\n",
    "\n",
    "for com in group_common:\n",
    "    sum_g += value(com)\n",
    "\n",
    "print(\"The sum of the priorities of those item tyeps is:\",sum_g)"
   ]
  },
  {
   "cell_type": "code",
   "execution_count": null,
   "id": "ea7aa1af",
   "metadata": {},
   "outputs": [],
   "source": []
  }
 ],
 "metadata": {
  "kernelspec": {
   "display_name": "Python 3 (ipykernel)",
   "language": "python",
   "name": "python3"
  },
  "language_info": {
   "codemirror_mode": {
    "name": "ipython",
    "version": 3
   },
   "file_extension": ".py",
   "mimetype": "text/x-python",
   "name": "python",
   "nbconvert_exporter": "python",
   "pygments_lexer": "ipython3",
   "version": "3.8.8"
  }
 },
 "nbformat": 4,
 "nbformat_minor": 5
}
