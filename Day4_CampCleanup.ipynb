{
 "cells": [
  {
   "cell_type": "code",
   "execution_count": 1,
   "id": "43aff747",
   "metadata": {},
   "outputs": [],
   "source": [
    "import pandas as pd"
   ]
  },
  {
   "cell_type": "code",
   "execution_count": 62,
   "id": "49d891f3",
   "metadata": {},
   "outputs": [],
   "source": [
    "path = \"***File Path***\""
   ]
  },
  {
   "cell_type": "code",
   "execution_count": 63,
   "id": "4bf49630",
   "metadata": {},
   "outputs": [],
   "source": [
    "df = pd.read_csv(path, header=None)"
   ]
  },
  {
   "cell_type": "code",
   "execution_count": 64,
   "id": "0830b784",
   "metadata": {},
   "outputs": [
    {
     "data": {
      "text/html": [
       "<div>\n",
       "<style scoped>\n",
       "    .dataframe tbody tr th:only-of-type {\n",
       "        vertical-align: middle;\n",
       "    }\n",
       "\n",
       "    .dataframe tbody tr th {\n",
       "        vertical-align: top;\n",
       "    }\n",
       "\n",
       "    .dataframe thead th {\n",
       "        text-align: right;\n",
       "    }\n",
       "</style>\n",
       "<table border=\"1\" class=\"dataframe\">\n",
       "  <thead>\n",
       "    <tr style=\"text-align: right;\">\n",
       "      <th></th>\n",
       "      <th>0</th>\n",
       "    </tr>\n",
       "  </thead>\n",
       "  <tbody>\n",
       "    <tr>\n",
       "      <th>0</th>\n",
       "      <td>7-24,8-8</td>\n",
       "    </tr>\n",
       "    <tr>\n",
       "      <th>1</th>\n",
       "      <td>2-75,37-51</td>\n",
       "    </tr>\n",
       "    <tr>\n",
       "      <th>2</th>\n",
       "      <td>47-78,20-39</td>\n",
       "    </tr>\n",
       "    <tr>\n",
       "      <th>3</th>\n",
       "      <td>53-91,34-53</td>\n",
       "    </tr>\n",
       "    <tr>\n",
       "      <th>4</th>\n",
       "      <td>13-50,14-50</td>\n",
       "    </tr>\n",
       "  </tbody>\n",
       "</table>\n",
       "</div>"
      ],
      "text/plain": [
       "             0\n",
       "0     7-24,8-8\n",
       "1   2-75,37-51\n",
       "2  47-78,20-39\n",
       "3  53-91,34-53\n",
       "4  13-50,14-50"
      ]
     },
     "execution_count": 64,
     "metadata": {},
     "output_type": "execute_result"
    }
   ],
   "source": [
    "df.head()"
   ]
  },
  {
   "cell_type": "code",
   "execution_count": 65,
   "id": "f2b23b1d",
   "metadata": {},
   "outputs": [
    {
     "data": {
      "text/html": [
       "<div>\n",
       "<style scoped>\n",
       "    .dataframe tbody tr th:only-of-type {\n",
       "        vertical-align: middle;\n",
       "    }\n",
       "\n",
       "    .dataframe tbody tr th {\n",
       "        vertical-align: top;\n",
       "    }\n",
       "\n",
       "    .dataframe thead th {\n",
       "        text-align: right;\n",
       "    }\n",
       "</style>\n",
       "<table border=\"1\" class=\"dataframe\">\n",
       "  <thead>\n",
       "    <tr style=\"text-align: right;\">\n",
       "      <th></th>\n",
       "      <th>0</th>\n",
       "      <th>first</th>\n",
       "      <th>second</th>\n",
       "    </tr>\n",
       "  </thead>\n",
       "  <tbody>\n",
       "    <tr>\n",
       "      <th>0</th>\n",
       "      <td>7-24,8-8</td>\n",
       "      <td>7-24</td>\n",
       "      <td>8-8</td>\n",
       "    </tr>\n",
       "    <tr>\n",
       "      <th>1</th>\n",
       "      <td>2-75,37-51</td>\n",
       "      <td>2-75</td>\n",
       "      <td>37-51</td>\n",
       "    </tr>\n",
       "    <tr>\n",
       "      <th>2</th>\n",
       "      <td>47-78,20-39</td>\n",
       "      <td>47-78</td>\n",
       "      <td>20-39</td>\n",
       "    </tr>\n",
       "    <tr>\n",
       "      <th>3</th>\n",
       "      <td>53-91,34-53</td>\n",
       "      <td>53-91</td>\n",
       "      <td>34-53</td>\n",
       "    </tr>\n",
       "    <tr>\n",
       "      <th>4</th>\n",
       "      <td>13-50,14-50</td>\n",
       "      <td>13-50</td>\n",
       "      <td>14-50</td>\n",
       "    </tr>\n",
       "  </tbody>\n",
       "</table>\n",
       "</div>"
      ],
      "text/plain": [
       "             0  first second\n",
       "0     7-24,8-8   7-24    8-8\n",
       "1   2-75,37-51   2-75  37-51\n",
       "2  47-78,20-39  47-78  20-39\n",
       "3  53-91,34-53  53-91  34-53\n",
       "4  13-50,14-50  13-50  14-50"
      ]
     },
     "execution_count": 65,
     "metadata": {},
     "output_type": "execute_result"
    }
   ],
   "source": [
    "df[['first','second']] = df[0].str.split(',',expand=True)\n",
    "df.head()"
   ]
  },
  {
   "cell_type": "code",
   "execution_count": 66,
   "id": "b5c3fcc9",
   "metadata": {},
   "outputs": [],
   "source": [
    "first = df['first'].to_list()\n",
    "second = df['second'].to_list()"
   ]
  },
  {
   "cell_type": "code",
   "execution_count": 67,
   "id": "35ccd591",
   "metadata": {},
   "outputs": [],
   "source": [
    "#first[0].split('-')\n",
    "\n",
    "def get_start(a):\n",
    "    return int(a.split('-')[0])\n",
    "\n",
    "def get_end(a):\n",
    "    return int(a.split('-')[1])\n",
    "    "
   ]
  },
  {
   "cell_type": "code",
   "execution_count": 68,
   "id": "e6b047f6",
   "metadata": {},
   "outputs": [],
   "source": [
    "first_range = []\n",
    "second_range = []\n",
    "\n",
    "for num in first:\n",
    "    start = get_start(num)\n",
    "    end = get_end(num)\n",
    "    nums = []\n",
    "    nums.append(start)\n",
    "    nums.append(end)\n",
    "    first_range.append(nums)\n",
    "\n",
    "for num in second:\n",
    "    start = get_start(num)\n",
    "    end = get_end(num)\n",
    "    nums = []\n",
    "    nums.append(start)\n",
    "    nums.append(end)\n",
    "    second_range.append(nums)"
   ]
  },
  {
   "cell_type": "code",
   "execution_count": 70,
   "id": "6810600c",
   "metadata": {},
   "outputs": [
    {
     "name": "stdout",
     "output_type": "stream",
     "text": [
      "562\n"
     ]
    }
   ],
   "source": [
    "count = 0\n",
    "for i in range(len(first_range)):\n",
    "    if (first_range[i][0] >= second_range[i][0]) and (first_range[i][1] <= second_range[i][1]) or (second_range[i][0] >= first_range[i][0]) and (second_range[i][1] <= first_range[i][1]):\n",
    "        count = count + 1\n",
    "\n",
    "print(count)\n",
    "    "
   ]
  },
  {
   "cell_type": "markdown",
   "id": "036b30be",
   "metadata": {},
   "source": [
    "#### Part 2"
   ]
  },
  {
   "cell_type": "code",
   "execution_count": 73,
   "id": "c0681a37",
   "metadata": {},
   "outputs": [
    {
     "data": {
      "text/plain": [
       "924"
      ]
     },
     "execution_count": 73,
     "metadata": {},
     "output_type": "execute_result"
    }
   ],
   "source": [
    "total = len(first_range)\n",
    "\n",
    "not_overlap = 0\n",
    "for i in range(len(first_range)):\n",
    "    if first_range[i][0] > second_range[i][1] or first_range[i][1] < second_range[i][0]:\n",
    "        not_overlap += 1\n",
    "\n",
    "total - not_overlap"
   ]
  },
  {
   "cell_type": "code",
   "execution_count": null,
   "id": "b5a2eb58",
   "metadata": {},
   "outputs": [],
   "source": []
  }
 ],
 "metadata": {
  "kernelspec": {
   "display_name": "Python 3 (ipykernel)",
   "language": "python",
   "name": "python3"
  },
  "language_info": {
   "codemirror_mode": {
    "name": "ipython",
    "version": 3
   },
   "file_extension": ".py",
   "mimetype": "text/x-python",
   "name": "python",
   "nbconvert_exporter": "python",
   "pygments_lexer": "ipython3",
   "version": "3.8.8"
  }
 },
 "nbformat": 4,
 "nbformat_minor": 5
}
